{
 "cells": [
  {
   "cell_type": "code",
   "execution_count": 16,
   "metadata": {},
   "outputs": [
    {
     "name": "stdout",
     "output_type": "stream",
     "text": [
      "12\n"
     ]
    }
   ],
   "source": [
    "# 1) Crear una variable que contenga un elemento del conjunto de números enteros y luego imprimir por pantalla si es mayor o menor a cero\n",
    "\n",
    "elemento=12\n",
    "def check(elemento):\n",
    "    if elemento>0:\n",
    "        print(elemento)\n",
    "\n",
    "check(elemento)"
   ]
  },
  {
   "cell_type": "code",
   "execution_count": 20,
   "metadata": {},
   "outputs": [
    {
     "name": "stdout",
     "output_type": "stream",
     "text": [
      "False\n"
     ]
    }
   ],
   "source": [
    "# 2) Crear dos variables y un condicional que informe si son del mismo tipo de dato\n",
    "\n",
    "miVar1=\"holas!\"\n",
    "miVar2=True\n",
    "\n",
    "def checkType(el1,el2):\n",
    "    print (type(el1)==type(el2))\n",
    "\n",
    "checkType(miVar1,miVar2)\n",
    "     "
   ]
  },
  {
   "cell_type": "code",
   "execution_count": 24,
   "metadata": {},
   "outputs": [
    {
     "name": "stdout",
     "output_type": "stream",
     "text": [
      "1 es par?: False\n",
      "2 es par?: True\n",
      "3 es par?: False\n",
      "4 es par?: True\n",
      "5 es par?: False\n",
      "6 es par?: True\n",
      "7 es par?: False\n",
      "8 es par?: True\n",
      "9 es par?: False\n",
      "10 es par?: True\n",
      "11 es par?: False\n",
      "12 es par?: True\n",
      "13 es par?: False\n",
      "14 es par?: True\n",
      "15 es par?: False\n",
      "16 es par?: True\n",
      "17 es par?: False\n",
      "18 es par?: True\n",
      "19 es par?: False\n",
      "20 es par?: True\n"
     ]
    }
   ],
   "source": [
    "# 3) Para los valores enteros del 1 al 20, imprimir por pantalla si es par o impar\n",
    "for i in range(1,21):\n",
    "    print(str(i)+\" es par?: \"+str(i%2==0))"
   ]
  },
  {
   "cell_type": "code",
   "execution_count": 42,
   "metadata": {},
   "outputs": [
    {
     "name": "stdout",
     "output_type": "stream",
     "text": [
      "0 al cubo: 0\n",
      "1 al cubo: 1\n",
      "2 al cubo: 8\n",
      "3 al cubo: 27\n",
      "4 al cubo: 64\n",
      "5 al cubo: 125\n"
     ]
    }
   ],
   "source": [
    "# 4) En un ciclo for mostrar para los valores entre 0 y 5 el resultado de elevarlo a la potencia igual a 3\n",
    "for i in range (0,6):\n",
    "    print('{num} al cubo: {tot}'.format(num=i, tot=i**3))"
   ]
  },
  {
   "cell_type": "code",
   "execution_count": 9,
   "metadata": {},
   "outputs": [
    {
     "name": "stdout",
     "output_type": "stream",
     "text": [
      "0\n",
      "1\n",
      "2\n",
      "3\n",
      "4\n",
      "5\n",
      "6\n",
      "7\n",
      "8\n",
      "9\n",
      "10\n",
      "11\n"
     ]
    }
   ],
   "source": [
    "# 5) Crear una variable que contenga un número entero y realizar un ciclo for la misma cantidad de ciclos\n",
    "miNum=12\n",
    "\n",
    "for i in range (0, miNum):\n",
    "    print(i)"
   ]
  },
  {
   "cell_type": "code",
   "execution_count": 55,
   "metadata": {},
   "outputs": [
    {
     "name": "stdout",
     "output_type": "stream",
     "text": [
      "120\n"
     ]
    }
   ],
   "source": [
    "# 6) Utilizar un ciclo while para realizar el factorial de un número guardado en una variable, sólo si la variable contiene un número entero mayor a 0\n",
    "miNum=5\n",
    "fact=1\n",
    "while miNum>0:\n",
    "    fact=fact*miNum\n",
    "    miNum-=1\n",
    "print(fact)\n",
    "\n",
    "    "
   ]
  },
  {
   "cell_type": "code",
   "execution_count": 56,
   "metadata": {},
   "outputs": [
    {
     "name": "stdout",
     "output_type": "stream",
     "text": [
      "['a', 'b', 'c', 'd', 'e', 'f', 'g', 'h']\n",
      "c\n",
      "h\n",
      "g\n",
      "e\n"
     ]
    }
   ],
   "source": [
    "miNum=4\n",
    "abc=\"a b c d e f g h\".split(\" \")\n",
    "print(abc)\n",
    "while miNum>0:\n",
    "    for i in range(0,4):\n",
    "        print(abc[random.randint(0,len(abc)-1)])\n",
    "        miNum-=1"
   ]
  },
  {
   "cell_type": "code",
   "execution_count": 57,
   "metadata": {},
   "outputs": [
    {
     "name": "stdout",
     "output_type": "stream",
     "text": [
      "vuelta 0\n",
      "aleatorización loca: g\n",
      "aleatorización loca: a\n",
      "vuelta 1\n",
      "aleatorización loca: e\n",
      "aleatorización loca: g\n",
      "vuelta 2\n",
      "aleatorización loca: h\n",
      "aleatorización loca: a\n"
     ]
    }
   ],
   "source": [
    "\n",
    "\n",
    "for i in range(0,3):\n",
    "    print(\"vuelta \"+str(i))\n",
    "    miNum=5\n",
    "    while miNum>3:\n",
    "        print(\"aleatorización loca: \"+str(abc[random.randint(0,len(abc)-1)]))\n",
    "        miNum-=1"
   ]
  },
  {
   "cell_type": "code",
   "execution_count": 69,
   "metadata": {},
   "outputs": [],
   "source": [
    "miNum=11\n",
    "\n",
    "def primada(n):\n",
    "    if n<7: \n",
    "        return \"n debe ser +7\"\n",
    "    if n%2==0:\n",
    "        return False\n",
    "    if n%3==0:\n",
    "        return False\n",
    "    if n%5==0:\n",
    "        return False\n",
    "    if n%7==0:\n",
    "        return False\n",
    "    return True\n",
    "    \n",
    "\n",
    "\n",
    "\n",
    "\n",
    "\n",
    "\n"
   ]
  },
  {
   "cell_type": "code",
   "execution_count": null,
   "metadata": {},
   "outputs": [],
   "source": []
  }
 ],
 "metadata": {
  "interpreter": {
   "hash": "c85384e4cb51c8b72350f3a8712cc8351fdc3955e32a27f9b60c6242ab125f01"
  },
  "kernelspec": {
   "display_name": "Python 3 (ipykernel)",
   "language": "python",
   "name": "python3"
  },
  "language_info": {
   "codemirror_mode": {
    "name": "ipython",
    "version": 3
   },
   "file_extension": ".py",
   "mimetype": "text/x-python",
   "name": "python",
   "nbconvert_exporter": "python",
   "pygments_lexer": "ipython3",
   "version": "3.9.10"
  }
 },
 "nbformat": 4,
 "nbformat_minor": 4
}
