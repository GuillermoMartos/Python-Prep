{
 "cells": [
  {
   "cell_type": "code",
   "execution_count": 6,
   "metadata": {},
   "outputs": [
    {
     "name": "stdout",
     "output_type": "stream",
     "text": [
      "1\n"
     ]
    }
   ],
   "source": [
    "# 1) Crear una variable que contenga un elemento del conjunto de números enteros y luego imprimir por pantalla\n",
    "a=1\n",
    "print(a)"
   ]
  },
  {
   "cell_type": "code",
   "execution_count": 5,
   "metadata": {},
   "outputs": [
    {
     "data": {
      "text/plain": [
       "float"
      ]
     },
     "execution_count": 5,
     "metadata": {},
     "output_type": "execute_result"
    }
   ],
   "source": [
    "# 2) Imprimir el tipo de dato de la constante 8.5\n",
    "\n",
    "type(8.5)\n"
   ]
  },
  {
   "cell_type": "code",
   "execution_count": 7,
   "metadata": {},
   "outputs": [
    {
     "data": {
      "text/plain": [
       "int"
      ]
     },
     "execution_count": 7,
     "metadata": {},
     "output_type": "execute_result"
    }
   ],
   "source": [
    "# 3) Imprimir el tipo de dato de la variable creada en el punto 1\n",
    "type(a)"
   ]
  },
  {
   "cell_type": "code",
   "execution_count": 8,
   "metadata": {},
   "outputs": [],
   "source": [
    "# 4) Crear una variable que contenga tu nombre\n",
    "yo=\"Guille\""
   ]
  },
  {
   "cell_type": "code",
   "execution_count": 9,
   "metadata": {},
   "outputs": [],
   "source": [
    "# 5) Crear una variable que contenga un número complejo\n",
    "complejo=2 + 2j"
   ]
  },
  {
   "cell_type": "code",
   "execution_count": 11,
   "metadata": {},
   "outputs": [
    {
     "data": {
      "text/plain": [
       "complex"
      ]
     },
     "execution_count": 11,
     "metadata": {},
     "output_type": "execute_result"
    }
   ],
   "source": [
    "# 6 Mostrar el tipo de dato de la variable crada en el punto 5\n",
    "type(complejo)"
   ]
  },
  {
   "cell_type": "code",
   "execution_count": 20,
   "metadata": {},
   "outputs": [],
   "source": [
    "# 7 Crear una variable que contenga el valor del número Pi redondeado a 4 decimales\n",
    "\n",
    "myPi=3.1416"
   ]
  },
  {
   "cell_type": "code",
   "execution_count": 23,
   "metadata": {},
   "outputs": [
    {
     "name": "stdout",
     "output_type": "stream",
     "text": [
      "False\n"
     ]
    }
   ],
   "source": [
    "# 8 Crear una variable que contenga el valor 'True' y otra que contenga el valor True. ¿Se trata de lo mismo? no, uno es un string 'True' y el otro es booleano True\n",
    "\n",
    "sinComilla=True\n",
    "conComilla='True'\n",
    "print(sinComilla==conComilla)"
   ]
  },
  {
   "cell_type": "code",
   "execution_count": 26,
   "metadata": {},
   "outputs": [
    {
     "name": "stdout",
     "output_type": "stream",
     "text": [
      "<class 'bool'>\n",
      "<class 'str'>\n"
     ]
    }
   ],
   "source": [
    "# 9 Imprimir el tipo de dato correspondientes a las variables creadas en el punto 9\n",
    "print (type(sinComilla))\n",
    "print (type(conComilla))\n"
   ]
  },
  {
   "cell_type": "code",
   "execution_count": 27,
   "metadata": {},
   "outputs": [],
   "source": [
    "# 10 Asignar a una variable, la suma de un número entero y otro decimal\n",
    "\n",
    "intFloat=9+3.5"
   ]
  },
  {
   "cell_type": "code",
   "execution_count": 32,
   "metadata": {},
   "outputs": [
    {
     "name": "stdout",
     "output_type": "stream",
     "text": [
      "(3+4j)\n"
     ]
    }
   ],
   "source": [
    "# 11 Realizar una operación de suma de números complejos\n",
    "a = 1j+1\n",
    "b = 2+3j\n",
    "\n",
    "print(a+b)\n"
   ]
  },
  {
   "cell_type": "code",
   "execution_count": 33,
   "metadata": {},
   "outputs": [
    {
     "name": "stdout",
     "output_type": "stream",
     "text": [
      "(6+3j)\n"
     ]
    }
   ],
   "source": [
    "#  12 Realizar una operación de suma de un número real y otro complejo\n",
    "print(4+b)"
   ]
  },
  {
   "cell_type": "code",
   "execution_count": 34,
   "metadata": {},
   "outputs": [
    {
     "name": "stdout",
     "output_type": "stream",
     "text": [
      "49\n"
     ]
    }
   ],
   "source": [
    "#  13 Realizar una operación de multiplicación\n",
    "\n",
    "print(7*7)"
   ]
  },
  {
   "cell_type": "code",
   "execution_count": 35,
   "metadata": {},
   "outputs": [
    {
     "name": "stdout",
     "output_type": "stream",
     "text": [
      "256\n"
     ]
    }
   ],
   "source": [
    "# 14 mostrar 2 a la octava\n",
    "print (2**8)"
   ]
  },
  {
   "cell_type": "code",
   "execution_count": 37,
   "metadata": {},
   "outputs": [
    {
     "name": "stdout",
     "output_type": "stream",
     "text": [
      "6.75\n"
     ]
    }
   ],
   "source": [
    "#  15 Obtener el cociente de la división de 27 entre 4 en una variable y luego mostrarla\n",
    "resul=27/4\n",
    "print(resul)"
   ]
  },
  {
   "cell_type": "code",
   "execution_count": 40,
   "metadata": {},
   "outputs": [
    {
     "name": "stdout",
     "output_type": "stream",
     "text": [
      "6\n",
      "6\n"
     ]
    }
   ],
   "source": [
    "# 16De la división anterior solamente mostrar la parte entera\n",
    "\n",
    "print(int(resul))\n",
    "# print(27//4) hace lo mismo\n",
    "print(27//4)"
   ]
  },
  {
   "cell_type": "code",
   "execution_count": 41,
   "metadata": {},
   "outputs": [
    {
     "name": "stdout",
     "output_type": "stream",
     "text": [
      "3\n"
     ]
    }
   ],
   "source": [
    "# 17 De la división de 27 entre 4 mostrar solamente el resto\n",
    "print(27%4)"
   ]
  },
  {
   "cell_type": "code",
   "execution_count": 42,
   "metadata": {},
   "outputs": [
    {
     "data": {
      "text/plain": [
       "27"
      ]
     },
     "execution_count": 42,
     "metadata": {},
     "output_type": "execute_result"
    }
   ],
   "source": [
    "# 18 Utilizando como operandos el número 4 y los resultados obtenidos en los puntos 16 y 17. Obtener 27 como resultado\n",
    "\n",
    "4*(27//4)+(27%4)"
   ]
  },
  {
   "cell_type": "code",
   "execution_count": 45,
   "metadata": {},
   "outputs": [
    {
     "data": {
      "text/plain": [
       "'asd12asd'"
      ]
     },
     "execution_count": 45,
     "metadata": {},
     "output_type": "execute_result"
    }
   ],
   "source": [
    "# 19 Utilizar el operador \"+\" en una operación donde intervengan solo variables alfanuméricas\n",
    "\n",
    "'asd'+'12asd'"
   ]
  },
  {
   "cell_type": "code",
   "execution_count": 46,
   "metadata": {},
   "outputs": [
    {
     "data": {
      "text/plain": [
       "False"
      ]
     },
     "execution_count": 46,
     "metadata": {},
     "output_type": "execute_result"
    }
   ],
   "source": [
    "#  20 Evaluar si \"2\" es igual a 2. ¿Por qué ocurre eso? uno es int otro str\n",
    "\n",
    "2==\"2\""
   ]
  },
  {
   "cell_type": "code",
   "execution_count": 50,
   "metadata": {},
   "outputs": [
    {
     "name": "stdout",
     "output_type": "stream",
     "text": [
      "True\n",
      "True\n"
     ]
    }
   ],
   "source": [
    "#21 Utilizar las funciones de cambio de tipo de dato, para que la validación del punto 20 resulte verdadera\n",
    "\n",
    "print (int(\"2\")==2)\n",
    "print(str(2)==\"2\")"
   ]
  },
  {
   "cell_type": "code",
   "execution_count": 54,
   "metadata": {},
   "outputs": [],
   "source": [
    "# 22 ¿Por qué arroja error el siguiente cambio de tipo de datos? a = float('3,8') POR LA COMA\n",
    "\n",
    "# a = float('3,8') coma :(( es con punto\n",
    "aarregloFloat= float('3.8')\n",
    "\n"
   ]
  },
  {
   "cell_type": "code",
   "execution_count": 58,
   "metadata": {},
   "outputs": [
    {
     "data": {
      "text/plain": [
       "1"
      ]
     },
     "execution_count": 58,
     "metadata": {},
     "output_type": "execute_result"
    }
   ],
   "source": [
    "#  23 Crear una variable con el valor 3, y utilizar el operador '-=' para modificar su contenido\n",
    "\n",
    "tres=3\n",
    "tres-=2\n",
    "tres\n"
   ]
  },
  {
   "cell_type": "code",
   "execution_count": 64,
   "metadata": {},
   "outputs": [
    {
     "data": {
      "text/plain": [
       "16"
      ]
     },
     "execution_count": 64,
     "metadata": {},
     "output_type": "execute_result"
    }
   ],
   "source": [
    "# 24 Realizar la operacion 1 << 2 ¿Por qué da ese resultado? ¿Qué es el sistema de numeración binario?\n",
    "# 4 << 2 corre hacia al izq dos posiciones circularmente dentro del binario que representa al 4\n",
    "\n",
    "4 << 2"
   ]
  },
  {
   "cell_type": "code",
   "execution_count": 72,
   "metadata": {},
   "outputs": [
    {
     "name": "stdout",
     "output_type": "stream",
     "text": [
      "4\n",
      "22\n",
      "<class 'str'>\n"
     ]
    }
   ],
   "source": [
    "# 25 Realizar la operación 2 + '2' ¿Por qué no está permitido? ¿Si los dos operandos serían del mismo tipo, siempre arrojaría el mismo resultado?\n",
    "\n",
    "# uno es str, el otro int. Si fueran del mismo tipo en int siempre darían 4 en str darian '22'\n",
    "print(2+2)\n",
    "print('2'+'2')\n",
    "print(type('2'+'2'))"
   ]
  },
  {
   "cell_type": "code",
   "execution_count": 79,
   "metadata": {},
   "outputs": [
    {
     "name": "stdout",
     "output_type": "stream",
     "text": [
      "celular: 35138888 1 sola vez\n"
     ]
    }
   ],
   "source": [
    "# 26 Realizar una operación válida entre valores de tipo entero y string\n",
    "\n",
    "miEntero=35138888\n",
    "miString='celular: '\n",
    "\n",
    "print(miString+str(miEntero)+' '+str(miEntero//miEntero)+' sola vez')"
   ]
  }
 ],
 "metadata": {
  "interpreter": {
   "hash": "c85384e4cb51c8b72350f3a8712cc8351fdc3955e32a27f9b60c6242ab125f01"
  },
  "kernelspec": {
   "display_name": "Python 3.9.7 64-bit ('henry': conda)",
   "language": "python",
   "name": "python3"
  },
  "language_info": {
   "codemirror_mode": {
    "name": "ipython",
    "version": 3
   },
   "file_extension": ".py",
   "mimetype": "text/x-python",
   "name": "python",
   "nbconvert_exporter": "python",
   "pygments_lexer": "ipython3",
   "version": "3.9.10"
  },
  "orig_nbformat": 4
 },
 "nbformat": 4,
 "nbformat_minor": 2
}
